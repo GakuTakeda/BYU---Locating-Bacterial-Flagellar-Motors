{
 "cells": [
  {
   "cell_type": "code",
   "execution_count": null,
   "id": "14abc818",
   "metadata": {},
   "outputs": [],
   "source": [
    "from ultralytics import YOLO\n",
    "import os"
   ]
  },
  {
   "cell_type": "code",
   "execution_count": 2,
   "id": "cea9abad",
   "metadata": {},
   "outputs": [
    {
     "data": {
      "text/plain": [
       "['result', 'survey.ipynb']"
      ]
     },
     "execution_count": 2,
     "metadata": {},
     "output_type": "execute_result"
    }
   ],
   "source": [
    "os.listdir()"
   ]
  },
  {
   "cell_type": "code",
   "execution_count": null,
   "id": "14c9ec54",
   "metadata": {},
   "outputs": [],
   "source": [
    "weight_path = \"/mnt/c/Users/tkdgk/BYU---Locating-Bacterial-Flagellar-Motors/detr/outputs/2025-05-12/02-20-46/42/yolo11l_train/weights\"\n",
    "total_epoch = 70\n",
    "yaml_path = \"/mnt/c/Users/tkdgk/BYU---Locating-Bacterial-Flagellar-Motors/parse_data_add_val_data/yolo_dataset/dataset.yaml\"\n",
    "for i in range(total_epoch):\n",
    "    # os.makedirs(f\"result_{i}\", exist_ok=True)\n",
    "    # os.chdir(f\"result_{i}\")\n",
    "    weight = os.path.join(weight_path ,f\"epoch{i}.pt\")\n",
    "    model = RTDETR(weight)\n",
    "\n",
    "    results = model.val(\n",
    "    data=yaml_path,\n",
    "    batch=12,\n",
    "    plots=True,        # PRカーブや混同行列のプロットを生成\n",
    "    save=True,         # 入力画像に検出結果を描画して保存する:contentReference[oaicite:0]{index=0}\n",
    "    save_json=True,    # COCOフォーマットのJSONでメトリクス結果を保存する:contentReference[oaicite:1]{index=1}\n",
    "    project=\"result\",# 保存先のルートディレクトリ\n",
    "    name=f\"result_{i}\",     # project 以下に作成されるサブフォルダ名\n",
    "    exist_ok=True      # 既存フォルダがあっても上書きする\n",
    "    )\n",
    "    \n",
    "    \n"
   ]
  },
  {
   "cell_type": "code",
   "execution_count": null,
   "id": "652cf2bf",
   "metadata": {},
   "outputs": [],
   "source": [
    "weight_path = \"/mnt/c/Users/tkdgk/BYU---Locating-Bacterial-Flagellar-Motors/detr/outputs/2025-05-12/02-20-46/42/yolo11l_train/weights\"\n",
    "total_epoch = 70\n",
    "yaml_path = \"/mnt/c/Users/tkdgk/BYU---Locating-Bacterial-Flagellar-Motors/parse_data_add_val_data/yolo_dataset/dataset.yaml\"\n",
    "model = YOLO(weight)\n",
    "\n",
    "results = model.predict(\n",
    "    data=yaml_path,\n",
    "    batch=12,\n",
    "    plots=True,        # PRカーブや混同行列のプロットを生成\n",
    "    save=True,         # 入力画像に検出結果を描画して保存する:contentReference[oaicite:0]{index=0}\n",
    "    save_json=True,    # COCOフォーマットのJSONでメトリクス結果を保存する:contentReference[oaicite:1]{index=1}\n",
    "    project=\"result\",# 保存先のルートディレクトリ\n",
    "    name=f\"result_{i}\",     # project 以下に作成されるサブフォルダ名\n",
    "    exist_ok=True      # 既存フォルダがあっても上書きする\n",
    "    )"
   ]
  }
 ],
 "metadata": {
  "kernelspec": {
   "display_name": ".venv",
   "language": "python",
   "name": "python3"
  },
  "language_info": {
   "codemirror_mode": {
    "name": "ipython",
    "version": 3
   },
   "file_extension": ".py",
   "mimetype": "text/x-python",
   "name": "python",
   "nbconvert_exporter": "python",
   "pygments_lexer": "ipython3",
   "version": "3.12.3"
  }
 },
 "nbformat": 4,
 "nbformat_minor": 5
}
