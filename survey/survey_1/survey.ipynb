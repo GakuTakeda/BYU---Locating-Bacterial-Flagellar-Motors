{
 "cells": [
  {
   "cell_type": "code",
   "execution_count": 1,
   "id": "14abc818",
   "metadata": {},
   "outputs": [],
   "source": [
    "from ultralytics import YOLO\n",
    "import os"
   ]
  },
  {
   "cell_type": "code",
   "execution_count": 3,
   "id": "cea9abad",
   "metadata": {},
   "outputs": [
    {
     "data": {
      "text/plain": [
       "['result', 'survey_1']"
      ]
     },
     "execution_count": 3,
     "metadata": {},
     "output_type": "execute_result"
    }
   ],
   "source": [
    "os.listdir()"
   ]
  },
  {
   "cell_type": "code",
   "execution_count": 4,
   "id": "14c9ec54",
   "metadata": {},
   "outputs": [
    {
     "name": "stdout",
     "output_type": "stream",
     "text": [
      "Ultralytics 8.3.107 🚀 Python-3.12.3 torch-2.6.0+cu124 CUDA:0 (NVIDIA GeForce RTX 4060 Ti, 16380MiB)\n",
      "YOLO11l summary (fused): 190 layers, 25,280,083 parameters, 0 gradients, 86.6 GFLOPs\n"
     ]
    },
    {
     "name": "stderr",
     "output_type": "stream",
     "text": [
      "\u001b[34m\u001b[1mval: \u001b[0mScanning /mnt/c/Users/tkdgk/BYU---Locating-Bacterial-Flagellar-Motors/parse_data_add_val_data/yolo_dataset/labels/val.cache... 1497 images, 705 backgrounds, 0 corrupt: 100%|██████████| 1497/1497 [00:00<?, ?it/s]\n",
      "                 Class     Images  Instances      Box(P          R      mAP50  mAP50-95): 100%|██████████| 125/125 [00:52<00:00,  2.39it/s]\n"
     ]
    },
    {
     "name": "stdout",
     "output_type": "stream",
     "text": [
      "                   all       1497        792      0.423      0.412      0.349     0.0848\n",
      "Speed: 0.5ms preprocess, 31.6ms inference, 0.0ms loss, 0.7ms postprocess per image\n",
      "Saving result/result_0/predictions.json...\n",
      "Results saved to \u001b[1mresult/result_0\u001b[0m\n",
      "Ultralytics 8.3.107 🚀 Python-3.12.3 torch-2.6.0+cu124 CUDA:0 (NVIDIA GeForce RTX 4060 Ti, 16380MiB)\n",
      "YOLO11l summary (fused): 190 layers, 25,280,083 parameters, 0 gradients, 86.6 GFLOPs\n"
     ]
    },
    {
     "name": "stderr",
     "output_type": "stream",
     "text": [
      "\u001b[34m\u001b[1mval: \u001b[0mScanning /mnt/c/Users/tkdgk/BYU---Locating-Bacterial-Flagellar-Motors/parse_data_add_val_data/yolo_dataset/labels/val.cache... 1497 images, 705 backgrounds, 0 corrupt: 100%|██████████| 1497/1497 [00:00<?, ?it/s]\n",
      "                 Class     Images  Instances      Box(P          R      mAP50  mAP50-95): 100%|██████████| 125/125 [00:51<00:00,  2.41it/s]\n"
     ]
    },
    {
     "name": "stdout",
     "output_type": "stream",
     "text": [
      "                   all       1497        792      0.667      0.581      0.621      0.254\n",
      "Speed: 0.4ms preprocess, 31.1ms inference, 0.0ms loss, 0.7ms postprocess per image\n",
      "Saving result/result_1/predictions.json...\n",
      "Results saved to \u001b[1mresult/result_1\u001b[0m\n",
      "Ultralytics 8.3.107 🚀 Python-3.12.3 torch-2.6.0+cu124 CUDA:0 (NVIDIA GeForce RTX 4060 Ti, 16380MiB)\n",
      "YOLO11l summary (fused): 190 layers, 25,280,083 parameters, 0 gradients, 86.6 GFLOPs\n"
     ]
    },
    {
     "name": "stderr",
     "output_type": "stream",
     "text": [
      "\u001b[34m\u001b[1mval: \u001b[0mScanning /mnt/c/Users/tkdgk/BYU---Locating-Bacterial-Flagellar-Motors/parse_data_add_val_data/yolo_dataset/labels/val.cache... 1497 images, 705 backgrounds, 0 corrupt: 100%|██████████| 1497/1497 [00:00<?, ?it/s]\n",
      "                 Class     Images  Instances      Box(P          R      mAP50  mAP50-95): 100%|██████████| 125/125 [00:52<00:00,  2.39it/s]\n"
     ]
    },
    {
     "name": "stdout",
     "output_type": "stream",
     "text": [
      "                   all       1497        792      0.694      0.614      0.654      0.299\n",
      "Speed: 0.4ms preprocess, 31.3ms inference, 0.0ms loss, 0.7ms postprocess per image\n",
      "Saving result/result_2/predictions.json...\n",
      "Results saved to \u001b[1mresult/result_2\u001b[0m\n",
      "Ultralytics 8.3.107 🚀 Python-3.12.3 torch-2.6.0+cu124 CUDA:0 (NVIDIA GeForce RTX 4060 Ti, 16380MiB)\n",
      "YOLO11l summary (fused): 190 layers, 25,280,083 parameters, 0 gradients, 86.6 GFLOPs\n"
     ]
    },
    {
     "name": "stderr",
     "output_type": "stream",
     "text": [
      "\u001b[34m\u001b[1mval: \u001b[0mScanning /mnt/c/Users/tkdgk/BYU---Locating-Bacterial-Flagellar-Motors/parse_data_add_val_data/yolo_dataset/labels/val.cache... 1497 images, 705 backgrounds, 0 corrupt: 100%|██████████| 1497/1497 [00:00<?, ?it/s]\n",
      "                 Class     Images  Instances      Box(P          R      mAP50  mAP50-95): 100%|██████████| 125/125 [00:53<00:00,  2.34it/s]\n"
     ]
    },
    {
     "name": "stdout",
     "output_type": "stream",
     "text": [
      "                   all       1497        792      0.747      0.696      0.726      0.363\n",
      "Speed: 0.5ms preprocess, 31.7ms inference, 0.0ms loss, 0.7ms postprocess per image\n",
      "Saving result/result_3/predictions.json...\n",
      "Results saved to \u001b[1mresult/result_3\u001b[0m\n",
      "Ultralytics 8.3.107 🚀 Python-3.12.3 torch-2.6.0+cu124 CUDA:0 (NVIDIA GeForce RTX 4060 Ti, 16380MiB)\n",
      "YOLO11l summary (fused): 190 layers, 25,280,083 parameters, 0 gradients, 86.6 GFLOPs\n"
     ]
    },
    {
     "name": "stderr",
     "output_type": "stream",
     "text": [
      "\u001b[34m\u001b[1mval: \u001b[0mScanning /mnt/c/Users/tkdgk/BYU---Locating-Bacterial-Flagellar-Motors/parse_data_add_val_data/yolo_dataset/labels/val.cache... 1497 images, 705 backgrounds, 0 corrupt: 100%|██████████| 1497/1497 [00:00<?, ?it/s]\n",
      "                 Class     Images  Instances      Box(P          R      mAP50  mAP50-95): 100%|██████████| 125/125 [00:52<00:00,  2.38it/s]\n"
     ]
    },
    {
     "name": "stdout",
     "output_type": "stream",
     "text": [
      "                   all       1497        792      0.841      0.774      0.812      0.417\n",
      "Speed: 0.5ms preprocess, 31.6ms inference, 0.0ms loss, 0.7ms postprocess per image\n",
      "Saving result/result_4/predictions.json...\n",
      "Results saved to \u001b[1mresult/result_4\u001b[0m\n",
      "Ultralytics 8.3.107 🚀 Python-3.12.3 torch-2.6.0+cu124 CUDA:0 (NVIDIA GeForce RTX 4060 Ti, 16380MiB)\n",
      "YOLO11l summary (fused): 190 layers, 25,280,083 parameters, 0 gradients, 86.6 GFLOPs\n"
     ]
    },
    {
     "name": "stderr",
     "output_type": "stream",
     "text": [
      "\u001b[34m\u001b[1mval: \u001b[0mScanning /mnt/c/Users/tkdgk/BYU---Locating-Bacterial-Flagellar-Motors/parse_data_add_val_data/yolo_dataset/labels/val.cache... 1497 images, 705 backgrounds, 0 corrupt: 100%|██████████| 1497/1497 [00:00<?, ?it/s]\n",
      "                 Class     Images  Instances      Box(P          R      mAP50  mAP50-95): 100%|██████████| 125/125 [00:52<00:00,  2.40it/s]\n"
     ]
    },
    {
     "name": "stdout",
     "output_type": "stream",
     "text": [
      "                   all       1497        792      0.834      0.783      0.832      0.444\n",
      "Speed: 0.5ms preprocess, 31.2ms inference, 0.0ms loss, 0.7ms postprocess per image\n",
      "Saving result/result_5/predictions.json...\n",
      "Results saved to \u001b[1mresult/result_5\u001b[0m\n",
      "Ultralytics 8.3.107 🚀 Python-3.12.3 torch-2.6.0+cu124 CUDA:0 (NVIDIA GeForce RTX 4060 Ti, 16380MiB)\n",
      "YOLO11l summary (fused): 190 layers, 25,280,083 parameters, 0 gradients, 86.6 GFLOPs\n"
     ]
    },
    {
     "name": "stderr",
     "output_type": "stream",
     "text": [
      "\u001b[34m\u001b[1mval: \u001b[0mScanning /mnt/c/Users/tkdgk/BYU---Locating-Bacterial-Flagellar-Motors/parse_data_add_val_data/yolo_dataset/labels/val.cache... 1497 images, 705 backgrounds, 0 corrupt: 100%|██████████| 1497/1497 [00:00<?, ?it/s]\n",
      "                 Class     Images  Instances      Box(P          R      mAP50  mAP50-95): 100%|██████████| 125/125 [00:51<00:00,  2.44it/s]\n"
     ]
    },
    {
     "name": "stdout",
     "output_type": "stream",
     "text": [
      "                   all       1497        792      0.788      0.771      0.783      0.401\n",
      "Speed: 0.5ms preprocess, 31.3ms inference, 0.0ms loss, 0.6ms postprocess per image\n",
      "Saving result/result_6/predictions.json...\n",
      "Results saved to \u001b[1mresult/result_6\u001b[0m\n",
      "Ultralytics 8.3.107 🚀 Python-3.12.3 torch-2.6.0+cu124 CUDA:0 (NVIDIA GeForce RTX 4060 Ti, 16380MiB)\n",
      "YOLO11l summary (fused): 190 layers, 25,280,083 parameters, 0 gradients, 86.6 GFLOPs\n"
     ]
    },
    {
     "name": "stderr",
     "output_type": "stream",
     "text": [
      "\u001b[34m\u001b[1mval: \u001b[0mScanning /mnt/c/Users/tkdgk/BYU---Locating-Bacterial-Flagellar-Motors/parse_data_add_val_data/yolo_dataset/labels/val.cache... 1497 images, 705 backgrounds, 0 corrupt: 100%|██████████| 1497/1497 [00:00<?, ?it/s]\n",
      "                 Class     Images  Instances      Box(P          R      mAP50  mAP50-95): 100%|██████████| 125/125 [00:52<00:00,  2.39it/s]\n"
     ]
    },
    {
     "name": "stdout",
     "output_type": "stream",
     "text": [
      "                   all       1497        792      0.822      0.791      0.826      0.436\n",
      "Speed: 0.5ms preprocess, 31.3ms inference, 0.0ms loss, 0.7ms postprocess per image\n",
      "Saving result/result_7/predictions.json...\n",
      "Results saved to \u001b[1mresult/result_7\u001b[0m\n",
      "Ultralytics 8.3.107 🚀 Python-3.12.3 torch-2.6.0+cu124 CUDA:0 (NVIDIA GeForce RTX 4060 Ti, 16380MiB)\n",
      "YOLO11l summary (fused): 190 layers, 25,280,083 parameters, 0 gradients, 86.6 GFLOPs\n"
     ]
    },
    {
     "name": "stderr",
     "output_type": "stream",
     "text": [
      "\u001b[34m\u001b[1mval: \u001b[0mScanning /mnt/c/Users/tkdgk/BYU---Locating-Bacterial-Flagellar-Motors/parse_data_add_val_data/yolo_dataset/labels/val.cache... 1497 images, 705 backgrounds, 0 corrupt: 100%|██████████| 1497/1497 [00:00<?, ?it/s]\n",
      "                 Class     Images  Instances      Box(P          R      mAP50  mAP50-95): 100%|██████████| 125/125 [00:51<00:00,  2.41it/s]\n"
     ]
    },
    {
     "name": "stdout",
     "output_type": "stream",
     "text": [
      "                   all       1497        792      0.871      0.801      0.862      0.482\n",
      "Speed: 0.4ms preprocess, 31.3ms inference, 0.0ms loss, 0.7ms postprocess per image\n",
      "Saving result/result_8/predictions.json...\n",
      "Results saved to \u001b[1mresult/result_8\u001b[0m\n",
      "Ultralytics 8.3.107 🚀 Python-3.12.3 torch-2.6.0+cu124 CUDA:0 (NVIDIA GeForce RTX 4060 Ti, 16380MiB)\n",
      "YOLO11l summary (fused): 190 layers, 25,280,083 parameters, 0 gradients, 86.6 GFLOPs\n"
     ]
    },
    {
     "name": "stderr",
     "output_type": "stream",
     "text": [
      "\u001b[34m\u001b[1mval: \u001b[0mScanning /mnt/c/Users/tkdgk/BYU---Locating-Bacterial-Flagellar-Motors/parse_data_add_val_data/yolo_dataset/labels/val.cache... 1497 images, 705 backgrounds, 0 corrupt: 100%|██████████| 1497/1497 [00:00<?, ?it/s]\n",
      "                 Class     Images  Instances      Box(P          R      mAP50  mAP50-95): 100%|██████████| 125/125 [00:51<00:00,  2.41it/s]\n"
     ]
    },
    {
     "name": "stdout",
     "output_type": "stream",
     "text": [
      "                   all       1497        792      0.828      0.809      0.838      0.478\n",
      "Speed: 0.4ms preprocess, 31.3ms inference, 0.0ms loss, 0.7ms postprocess per image\n",
      "Saving result/result_9/predictions.json...\n",
      "Results saved to \u001b[1mresult/result_9\u001b[0m\n",
      "Ultralytics 8.3.107 🚀 Python-3.12.3 torch-2.6.0+cu124 CUDA:0 (NVIDIA GeForce RTX 4060 Ti, 16380MiB)\n",
      "YOLO11l summary (fused): 190 layers, 25,280,083 parameters, 0 gradients, 86.6 GFLOPs\n"
     ]
    },
    {
     "name": "stderr",
     "output_type": "stream",
     "text": [
      "\u001b[34m\u001b[1mval: \u001b[0mScanning /mnt/c/Users/tkdgk/BYU---Locating-Bacterial-Flagellar-Motors/parse_data_add_val_data/yolo_dataset/labels/val.cache... 1497 images, 705 backgrounds, 0 corrupt: 100%|██████████| 1497/1497 [00:00<?, ?it/s]\n",
      "                 Class     Images  Instances      Box(P          R      mAP50  mAP50-95): 100%|██████████| 125/125 [00:51<00:00,  2.41it/s]\n"
     ]
    },
    {
     "name": "stdout",
     "output_type": "stream",
     "text": [
      "                   all       1497        792      0.856      0.809      0.851      0.466\n",
      "Speed: 0.5ms preprocess, 31.3ms inference, 0.0ms loss, 0.7ms postprocess per image\n",
      "Saving result/result_10/predictions.json...\n",
      "Results saved to \u001b[1mresult/result_10\u001b[0m\n",
      "Ultralytics 8.3.107 🚀 Python-3.12.3 torch-2.6.0+cu124 CUDA:0 (NVIDIA GeForce RTX 4060 Ti, 16380MiB)\n",
      "YOLO11l summary (fused): 190 layers, 25,280,083 parameters, 0 gradients, 86.6 GFLOPs\n"
     ]
    },
    {
     "name": "stderr",
     "output_type": "stream",
     "text": [
      "\u001b[34m\u001b[1mval: \u001b[0mScanning /mnt/c/Users/tkdgk/BYU---Locating-Bacterial-Flagellar-Motors/parse_data_add_val_data/yolo_dataset/labels/val.cache... 1497 images, 705 backgrounds, 0 corrupt: 100%|██████████| 1497/1497 [00:00<?, ?it/s]\n",
      "                 Class     Images  Instances      Box(P          R      mAP50  mAP50-95): 100%|██████████| 125/125 [00:51<00:00,  2.42it/s]\n"
     ]
    },
    {
     "name": "stdout",
     "output_type": "stream",
     "text": [
      "                   all       1497        792       0.86      0.823       0.85      0.464\n",
      "Speed: 0.4ms preprocess, 31.3ms inference, 0.0ms loss, 0.7ms postprocess per image\n",
      "Saving result/result_11/predictions.json...\n",
      "Results saved to \u001b[1mresult/result_11\u001b[0m\n",
      "Ultralytics 8.3.107 🚀 Python-3.12.3 torch-2.6.0+cu124 CUDA:0 (NVIDIA GeForce RTX 4060 Ti, 16380MiB)\n",
      "YOLO11l summary (fused): 190 layers, 25,280,083 parameters, 0 gradients, 86.6 GFLOPs\n"
     ]
    },
    {
     "name": "stderr",
     "output_type": "stream",
     "text": [
      "\u001b[34m\u001b[1mval: \u001b[0mScanning /mnt/c/Users/tkdgk/BYU---Locating-Bacterial-Flagellar-Motors/parse_data_add_val_data/yolo_dataset/labels/val.cache... 1497 images, 705 backgrounds, 0 corrupt: 100%|██████████| 1497/1497 [00:00<?, ?it/s]\n",
      "                 Class     Images  Instances      Box(P          R      mAP50  mAP50-95): 100%|██████████| 125/125 [00:51<00:00,  2.42it/s]\n"
     ]
    },
    {
     "name": "stdout",
     "output_type": "stream",
     "text": [
      "                   all       1497        792      0.834      0.838      0.865      0.461\n",
      "Speed: 0.5ms preprocess, 31.3ms inference, 0.0ms loss, 0.7ms postprocess per image\n",
      "Saving result/result_12/predictions.json...\n",
      "Results saved to \u001b[1mresult/result_12\u001b[0m\n",
      "Ultralytics 8.3.107 🚀 Python-3.12.3 torch-2.6.0+cu124 CUDA:0 (NVIDIA GeForce RTX 4060 Ti, 16380MiB)\n",
      "YOLO11l summary (fused): 190 layers, 25,280,083 parameters, 0 gradients, 86.6 GFLOPs\n"
     ]
    },
    {
     "name": "stderr",
     "output_type": "stream",
     "text": [
      "\u001b[34m\u001b[1mval: \u001b[0mScanning /mnt/c/Users/tkdgk/BYU---Locating-Bacterial-Flagellar-Motors/parse_data_add_val_data/yolo_dataset/labels/val.cache... 1497 images, 705 backgrounds, 0 corrupt: 100%|██████████| 1497/1497 [00:00<?, ?it/s]\n",
      "                 Class     Images  Instances      Box(P          R      mAP50  mAP50-95): 100%|██████████| 125/125 [00:51<00:00,  2.42it/s]\n"
     ]
    },
    {
     "name": "stdout",
     "output_type": "stream",
     "text": [
      "                   all       1497        792      0.872      0.829      0.876      0.495\n",
      "Speed: 0.4ms preprocess, 31.3ms inference, 0.0ms loss, 0.7ms postprocess per image\n",
      "Saving result/result_13/predictions.json...\n",
      "Results saved to \u001b[1mresult/result_13\u001b[0m\n",
      "Ultralytics 8.3.107 🚀 Python-3.12.3 torch-2.6.0+cu124 CUDA:0 (NVIDIA GeForce RTX 4060 Ti, 16380MiB)\n",
      "YOLO11l summary (fused): 190 layers, 25,280,083 parameters, 0 gradients, 86.6 GFLOPs\n"
     ]
    },
    {
     "name": "stderr",
     "output_type": "stream",
     "text": [
      "\u001b[34m\u001b[1mval: \u001b[0mScanning /mnt/c/Users/tkdgk/BYU---Locating-Bacterial-Flagellar-Motors/parse_data_add_val_data/yolo_dataset/labels/val.cache... 1497 images, 705 backgrounds, 0 corrupt: 100%|██████████| 1497/1497 [00:00<?, ?it/s]\n",
      "                 Class     Images  Instances      Box(P          R      mAP50  mAP50-95): 100%|██████████| 125/125 [00:52<00:00,  2.40it/s]\n"
     ]
    },
    {
     "name": "stdout",
     "output_type": "stream",
     "text": [
      "                   all       1497        792      0.878      0.803      0.865      0.488\n",
      "Speed: 0.5ms preprocess, 31.4ms inference, 0.0ms loss, 0.7ms postprocess per image\n",
      "Saving result/result_14/predictions.json...\n",
      "Results saved to \u001b[1mresult/result_14\u001b[0m\n",
      "Ultralytics 8.3.107 🚀 Python-3.12.3 torch-2.6.0+cu124 CUDA:0 (NVIDIA GeForce RTX 4060 Ti, 16380MiB)\n",
      "YOLO11l summary (fused): 190 layers, 25,280,083 parameters, 0 gradients, 86.6 GFLOPs\n"
     ]
    },
    {
     "name": "stderr",
     "output_type": "stream",
     "text": [
      "\u001b[34m\u001b[1mval: \u001b[0mScanning /mnt/c/Users/tkdgk/BYU---Locating-Bacterial-Flagellar-Motors/parse_data_add_val_data/yolo_dataset/labels/val.cache... 1497 images, 705 backgrounds, 0 corrupt: 100%|██████████| 1497/1497 [00:00<?, ?it/s]\n",
      "                 Class     Images  Instances      Box(P          R      mAP50  mAP50-95): 100%|██████████| 125/125 [00:51<00:00,  2.42it/s]\n"
     ]
    },
    {
     "name": "stdout",
     "output_type": "stream",
     "text": [
      "                   all       1497        792      0.862      0.837      0.875      0.514\n",
      "Speed: 0.5ms preprocess, 31.2ms inference, 0.0ms loss, 0.7ms postprocess per image\n",
      "Saving result/result_15/predictions.json...\n",
      "Results saved to \u001b[1mresult/result_15\u001b[0m\n",
      "Ultralytics 8.3.107 🚀 Python-3.12.3 torch-2.6.0+cu124 CUDA:0 (NVIDIA GeForce RTX 4060 Ti, 16380MiB)\n",
      "YOLO11l summary (fused): 190 layers, 25,280,083 parameters, 0 gradients, 86.6 GFLOPs\n"
     ]
    },
    {
     "name": "stderr",
     "output_type": "stream",
     "text": [
      "\u001b[34m\u001b[1mval: \u001b[0mScanning /mnt/c/Users/tkdgk/BYU---Locating-Bacterial-Flagellar-Motors/parse_data_add_val_data/yolo_dataset/labels/val.cache... 1497 images, 705 backgrounds, 0 corrupt: 100%|██████████| 1497/1497 [00:00<?, ?it/s]\n",
      "                 Class     Images  Instances      Box(P          R      mAP50  mAP50-95): 100%|██████████| 125/125 [00:52<00:00,  2.40it/s]\n"
     ]
    },
    {
     "name": "stdout",
     "output_type": "stream",
     "text": [
      "                   all       1497        792      0.874      0.818       0.87      0.483\n",
      "Speed: 0.5ms preprocess, 31.3ms inference, 0.0ms loss, 0.7ms postprocess per image\n",
      "Saving result/result_16/predictions.json...\n",
      "Results saved to \u001b[1mresult/result_16\u001b[0m\n",
      "Ultralytics 8.3.107 🚀 Python-3.12.3 torch-2.6.0+cu124 CUDA:0 (NVIDIA GeForce RTX 4060 Ti, 16380MiB)\n",
      "YOLO11l summary (fused): 190 layers, 25,280,083 parameters, 0 gradients, 86.6 GFLOPs\n"
     ]
    },
    {
     "name": "stderr",
     "output_type": "stream",
     "text": [
      "\u001b[34m\u001b[1mval: \u001b[0mScanning /mnt/c/Users/tkdgk/BYU---Locating-Bacterial-Flagellar-Motors/parse_data_add_val_data/yolo_dataset/labels/val.cache... 1497 images, 705 backgrounds, 0 corrupt: 100%|██████████| 1497/1497 [00:00<?, ?it/s]\n",
      "                 Class     Images  Instances      Box(P          R      mAP50  mAP50-95): 100%|██████████| 125/125 [00:51<00:00,  2.41it/s]\n"
     ]
    },
    {
     "name": "stdout",
     "output_type": "stream",
     "text": [
      "                   all       1497        792      0.842      0.815      0.844      0.381\n",
      "Speed: 0.5ms preprocess, 31.4ms inference, 0.0ms loss, 0.7ms postprocess per image\n",
      "Saving result/result_17/predictions.json...\n",
      "Results saved to \u001b[1mresult/result_17\u001b[0m\n",
      "Ultralytics 8.3.107 🚀 Python-3.12.3 torch-2.6.0+cu124 CUDA:0 (NVIDIA GeForce RTX 4060 Ti, 16380MiB)\n",
      "YOLO11l summary (fused): 190 layers, 25,280,083 parameters, 0 gradients, 86.6 GFLOPs\n"
     ]
    },
    {
     "name": "stderr",
     "output_type": "stream",
     "text": [
      "\u001b[34m\u001b[1mval: \u001b[0mScanning /mnt/c/Users/tkdgk/BYU---Locating-Bacterial-Flagellar-Motors/parse_data_add_val_data/yolo_dataset/labels/val.cache... 1497 images, 705 backgrounds, 0 corrupt: 100%|██████████| 1497/1497 [00:00<?, ?it/s]\n",
      "                 Class     Images  Instances      Box(P          R      mAP50  mAP50-95): 100%|██████████| 125/125 [00:51<00:00,  2.44it/s]\n"
     ]
    },
    {
     "name": "stdout",
     "output_type": "stream",
     "text": [
      "                   all       1497        792      0.856      0.814      0.858      0.446\n",
      "Speed: 0.4ms preprocess, 30.8ms inference, 0.0ms loss, 0.7ms postprocess per image\n",
      "Saving result/result_18/predictions.json...\n",
      "Results saved to \u001b[1mresult/result_18\u001b[0m\n",
      "Ultralytics 8.3.107 🚀 Python-3.12.3 torch-2.6.0+cu124 CUDA:0 (NVIDIA GeForce RTX 4060 Ti, 16380MiB)\n",
      "YOLO11l summary (fused): 190 layers, 25,280,083 parameters, 0 gradients, 86.6 GFLOPs\n"
     ]
    },
    {
     "name": "stderr",
     "output_type": "stream",
     "text": [
      "\u001b[34m\u001b[1mval: \u001b[0mScanning /mnt/c/Users/tkdgk/BYU---Locating-Bacterial-Flagellar-Motors/parse_data_add_val_data/yolo_dataset/labels/val.cache... 1497 images, 705 backgrounds, 0 corrupt: 100%|██████████| 1497/1497 [00:00<?, ?it/s]\n",
      "                 Class     Images  Instances      Box(P          R      mAP50  mAP50-95): 100%|██████████| 125/125 [00:50<00:00,  2.45it/s]\n"
     ]
    },
    {
     "name": "stdout",
     "output_type": "stream",
     "text": [
      "                   all       1497        792      0.822      0.809      0.856      0.465\n",
      "Speed: 0.4ms preprocess, 30.9ms inference, 0.0ms loss, 0.7ms postprocess per image\n",
      "Saving result/result_19/predictions.json...\n",
      "Results saved to \u001b[1mresult/result_19\u001b[0m\n",
      "Ultralytics 8.3.107 🚀 Python-3.12.3 torch-2.6.0+cu124 CUDA:0 (NVIDIA GeForce RTX 4060 Ti, 16380MiB)\n",
      "YOLO11l summary (fused): 190 layers, 25,280,083 parameters, 0 gradients, 86.6 GFLOPs\n"
     ]
    },
    {
     "name": "stderr",
     "output_type": "stream",
     "text": [
      "\u001b[34m\u001b[1mval: \u001b[0mScanning /mnt/c/Users/tkdgk/BYU---Locating-Bacterial-Flagellar-Motors/parse_data_add_val_data/yolo_dataset/labels/val.cache... 1497 images, 705 backgrounds, 0 corrupt: 100%|██████████| 1497/1497 [00:00<?, ?it/s]\n",
      "                 Class     Images  Instances      Box(P          R      mAP50  mAP50-95): 100%|██████████| 125/125 [00:50<00:00,  2.45it/s]\n"
     ]
    },
    {
     "name": "stdout",
     "output_type": "stream",
     "text": [
      "                   all       1497        792      0.845      0.842      0.884      0.527\n",
      "Speed: 0.4ms preprocess, 30.9ms inference, 0.0ms loss, 0.6ms postprocess per image\n",
      "Saving result/result_20/predictions.json...\n",
      "Results saved to \u001b[1mresult/result_20\u001b[0m\n",
      "Ultralytics 8.3.107 🚀 Python-3.12.3 torch-2.6.0+cu124 CUDA:0 (NVIDIA GeForce RTX 4060 Ti, 16380MiB)\n",
      "YOLO11l summary (fused): 190 layers, 25,280,083 parameters, 0 gradients, 86.6 GFLOPs\n"
     ]
    },
    {
     "name": "stderr",
     "output_type": "stream",
     "text": [
      "\u001b[34m\u001b[1mval: \u001b[0mScanning /mnt/c/Users/tkdgk/BYU---Locating-Bacterial-Flagellar-Motors/parse_data_add_val_data/yolo_dataset/labels/val.cache... 1497 images, 705 backgrounds, 0 corrupt: 100%|██████████| 1497/1497 [00:00<?, ?it/s]\n",
      "                 Class     Images  Instances      Box(P          R      mAP50  mAP50-95): 100%|██████████| 125/125 [00:51<00:00,  2.44it/s]\n"
     ]
    },
    {
     "name": "stdout",
     "output_type": "stream",
     "text": [
      "                   all       1497        792      0.868       0.83      0.888      0.505\n",
      "Speed: 0.4ms preprocess, 30.9ms inference, 0.0ms loss, 0.7ms postprocess per image\n",
      "Saving result/result_21/predictions.json...\n",
      "Results saved to \u001b[1mresult/result_21\u001b[0m\n",
      "Ultralytics 8.3.107 🚀 Python-3.12.3 torch-2.6.0+cu124 CUDA:0 (NVIDIA GeForce RTX 4060 Ti, 16380MiB)\n",
      "YOLO11l summary (fused): 190 layers, 25,280,083 parameters, 0 gradients, 86.6 GFLOPs\n"
     ]
    },
    {
     "name": "stderr",
     "output_type": "stream",
     "text": [
      "\u001b[34m\u001b[1mval: \u001b[0mScanning /mnt/c/Users/tkdgk/BYU---Locating-Bacterial-Flagellar-Motors/parse_data_add_val_data/yolo_dataset/labels/val.cache... 1497 images, 705 backgrounds, 0 corrupt: 100%|██████████| 1497/1497 [00:00<?, ?it/s]\n",
      "                 Class     Images  Instances      Box(P          R      mAP50  mAP50-95): 100%|██████████| 125/125 [00:51<00:00,  2.45it/s]\n"
     ]
    },
    {
     "name": "stdout",
     "output_type": "stream",
     "text": [
      "                   all       1497        792      0.863      0.831      0.878      0.448\n",
      "Speed: 0.6ms preprocess, 30.9ms inference, 0.0ms loss, 0.7ms postprocess per image\n",
      "Saving result/result_22/predictions.json...\n",
      "Results saved to \u001b[1mresult/result_22\u001b[0m\n",
      "Ultralytics 8.3.107 🚀 Python-3.12.3 torch-2.6.0+cu124 CUDA:0 (NVIDIA GeForce RTX 4060 Ti, 16380MiB)\n",
      "YOLO11l summary (fused): 190 layers, 25,280,083 parameters, 0 gradients, 86.6 GFLOPs\n"
     ]
    },
    {
     "name": "stderr",
     "output_type": "stream",
     "text": [
      "\u001b[34m\u001b[1mval: \u001b[0mScanning /mnt/c/Users/tkdgk/BYU---Locating-Bacterial-Flagellar-Motors/parse_data_add_val_data/yolo_dataset/labels/val.cache... 1497 images, 705 backgrounds, 0 corrupt: 100%|██████████| 1497/1497 [00:00<?, ?it/s]\n",
      "                 Class     Images  Instances      Box(P          R      mAP50  mAP50-95): 100%|██████████| 125/125 [00:51<00:00,  2.44it/s]\n"
     ]
    },
    {
     "name": "stdout",
     "output_type": "stream",
     "text": [
      "                   all       1497        792      0.897      0.833      0.879       0.51\n",
      "Speed: 0.4ms preprocess, 30.9ms inference, 0.0ms loss, 0.7ms postprocess per image\n",
      "Saving result/result_23/predictions.json...\n",
      "Results saved to \u001b[1mresult/result_23\u001b[0m\n",
      "Ultralytics 8.3.107 🚀 Python-3.12.3 torch-2.6.0+cu124 CUDA:0 (NVIDIA GeForce RTX 4060 Ti, 16380MiB)\n",
      "YOLO11l summary (fused): 190 layers, 25,280,083 parameters, 0 gradients, 86.6 GFLOPs\n"
     ]
    },
    {
     "name": "stderr",
     "output_type": "stream",
     "text": [
      "\u001b[34m\u001b[1mval: \u001b[0mScanning /mnt/c/Users/tkdgk/BYU---Locating-Bacterial-Flagellar-Motors/parse_data_add_val_data/yolo_dataset/labels/val.cache... 1497 images, 705 backgrounds, 0 corrupt: 100%|██████████| 1497/1497 [00:00<?, ?it/s]\n",
      "                 Class     Images  Instances      Box(P          R      mAP50  mAP50-95): 100%|██████████| 125/125 [00:50<00:00,  2.46it/s]\n"
     ]
    },
    {
     "name": "stdout",
     "output_type": "stream",
     "text": [
      "                   all       1497        792      0.851      0.823      0.879        0.5\n",
      "Speed: 0.5ms preprocess, 30.9ms inference, 0.0ms loss, 0.6ms postprocess per image\n",
      "Saving result/result_24/predictions.json...\n",
      "Results saved to \u001b[1mresult/result_24\u001b[0m\n",
      "Ultralytics 8.3.107 🚀 Python-3.12.3 torch-2.6.0+cu124 CUDA:0 (NVIDIA GeForce RTX 4060 Ti, 16380MiB)\n",
      "YOLO11l summary (fused): 190 layers, 25,280,083 parameters, 0 gradients, 86.6 GFLOPs\n"
     ]
    },
    {
     "name": "stderr",
     "output_type": "stream",
     "text": [
      "\u001b[34m\u001b[1mval: \u001b[0mScanning /mnt/c/Users/tkdgk/BYU---Locating-Bacterial-Flagellar-Motors/parse_data_add_val_data/yolo_dataset/labels/val.cache... 1497 images, 705 backgrounds, 0 corrupt: 100%|██████████| 1497/1497 [00:00<?, ?it/s]\n",
      "                 Class     Images  Instances      Box(P          R      mAP50  mAP50-95): 100%|██████████| 125/125 [00:51<00:00,  2.42it/s]\n"
     ]
    },
    {
     "name": "stdout",
     "output_type": "stream",
     "text": [
      "                   all       1497        792      0.865      0.823      0.877      0.439\n",
      "Speed: 0.5ms preprocess, 31.3ms inference, 0.0ms loss, 0.7ms postprocess per image\n",
      "Saving result/result_25/predictions.json...\n",
      "Results saved to \u001b[1mresult/result_25\u001b[0m\n",
      "Ultralytics 8.3.107 🚀 Python-3.12.3 torch-2.6.0+cu124 CUDA:0 (NVIDIA GeForce RTX 4060 Ti, 16380MiB)\n",
      "YOLO11l summary (fused): 190 layers, 25,280,083 parameters, 0 gradients, 86.6 GFLOPs\n"
     ]
    },
    {
     "name": "stderr",
     "output_type": "stream",
     "text": [
      "\u001b[34m\u001b[1mval: \u001b[0mScanning /mnt/c/Users/tkdgk/BYU---Locating-Bacterial-Flagellar-Motors/parse_data_add_val_data/yolo_dataset/labels/val.cache... 1497 images, 705 backgrounds, 0 corrupt: 100%|██████████| 1497/1497 [00:00<?, ?it/s]\n",
      "                 Class     Images  Instances      Box(P          R      mAP50  mAP50-95): 100%|██████████| 125/125 [00:51<00:00,  2.42it/s]\n"
     ]
    },
    {
     "name": "stdout",
     "output_type": "stream",
     "text": [
      "                   all       1497        792      0.868      0.815      0.869      0.495\n",
      "Speed: 0.5ms preprocess, 31.2ms inference, 0.0ms loss, 0.6ms postprocess per image\n",
      "Saving result/result_26/predictions.json...\n",
      "Results saved to \u001b[1mresult/result_26\u001b[0m\n",
      "Ultralytics 8.3.107 🚀 Python-3.12.3 torch-2.6.0+cu124 CUDA:0 (NVIDIA GeForce RTX 4060 Ti, 16380MiB)\n",
      "YOLO11l summary (fused): 190 layers, 25,280,083 parameters, 0 gradients, 86.6 GFLOPs\n"
     ]
    },
    {
     "name": "stderr",
     "output_type": "stream",
     "text": [
      "\u001b[34m\u001b[1mval: \u001b[0mScanning /mnt/c/Users/tkdgk/BYU---Locating-Bacterial-Flagellar-Motors/parse_data_add_val_data/yolo_dataset/labels/val.cache... 1497 images, 705 backgrounds, 0 corrupt: 100%|██████████| 1497/1497 [00:00<?, ?it/s]\n",
      "                 Class     Images  Instances      Box(P          R      mAP50  mAP50-95): 100%|██████████| 125/125 [00:52<00:00,  2.39it/s]\n"
     ]
    },
    {
     "name": "stdout",
     "output_type": "stream",
     "text": [
      "                   all       1497        792      0.876      0.845      0.875      0.486\n",
      "Speed: 0.5ms preprocess, 31.4ms inference, 0.0ms loss, 0.7ms postprocess per image\n",
      "Saving result/result_27/predictions.json...\n",
      "Results saved to \u001b[1mresult/result_27\u001b[0m\n",
      "Ultralytics 8.3.107 🚀 Python-3.12.3 torch-2.6.0+cu124 CUDA:0 (NVIDIA GeForce RTX 4060 Ti, 16380MiB)\n",
      "YOLO11l summary (fused): 190 layers, 25,280,083 parameters, 0 gradients, 86.6 GFLOPs\n"
     ]
    },
    {
     "name": "stderr",
     "output_type": "stream",
     "text": [
      "\u001b[34m\u001b[1mval: \u001b[0mScanning /mnt/c/Users/tkdgk/BYU---Locating-Bacterial-Flagellar-Motors/parse_data_add_val_data/yolo_dataset/labels/val.cache... 1497 images, 705 backgrounds, 0 corrupt: 100%|██████████| 1497/1497 [00:00<?, ?it/s]\n",
      "                 Class     Images  Instances      Box(P          R      mAP50  mAP50-95): 100%|██████████| 125/125 [00:51<00:00,  2.41it/s]\n"
     ]
    },
    {
     "name": "stdout",
     "output_type": "stream",
     "text": [
      "                   all       1497        792      0.859      0.834      0.891      0.482\n",
      "Speed: 0.5ms preprocess, 31.3ms inference, 0.0ms loss, 0.7ms postprocess per image\n",
      "Saving result/result_28/predictions.json...\n",
      "Results saved to \u001b[1mresult/result_28\u001b[0m\n",
      "Ultralytics 8.3.107 🚀 Python-3.12.3 torch-2.6.0+cu124 CUDA:0 (NVIDIA GeForce RTX 4060 Ti, 16380MiB)\n",
      "YOLO11l summary (fused): 190 layers, 25,280,083 parameters, 0 gradients, 86.6 GFLOPs\n"
     ]
    },
    {
     "name": "stderr",
     "output_type": "stream",
     "text": [
      "\u001b[34m\u001b[1mval: \u001b[0mScanning /mnt/c/Users/tkdgk/BYU---Locating-Bacterial-Flagellar-Motors/parse_data_add_val_data/yolo_dataset/labels/val.cache... 1497 images, 705 backgrounds, 0 corrupt: 100%|██████████| 1497/1497 [00:00<?, ?it/s]\n",
      "                 Class     Images  Instances      Box(P          R      mAP50  mAP50-95): 100%|██████████| 125/125 [00:51<00:00,  2.43it/s]\n"
     ]
    },
    {
     "name": "stdout",
     "output_type": "stream",
     "text": [
      "                   all       1497        792      0.853       0.86      0.886      0.509\n",
      "Speed: 0.5ms preprocess, 31.2ms inference, 0.0ms loss, 0.6ms postprocess per image\n",
      "Saving result/result_29/predictions.json...\n",
      "Results saved to \u001b[1mresult/result_29\u001b[0m\n",
      "Ultralytics 8.3.107 🚀 Python-3.12.3 torch-2.6.0+cu124 CUDA:0 (NVIDIA GeForce RTX 4060 Ti, 16380MiB)\n",
      "YOLO11l summary (fused): 190 layers, 25,280,083 parameters, 0 gradients, 86.6 GFLOPs\n"
     ]
    },
    {
     "name": "stderr",
     "output_type": "stream",
     "text": [
      "\u001b[34m\u001b[1mval: \u001b[0mScanning /mnt/c/Users/tkdgk/BYU---Locating-Bacterial-Flagellar-Motors/parse_data_add_val_data/yolo_dataset/labels/val.cache... 1497 images, 705 backgrounds, 0 corrupt: 100%|██████████| 1497/1497 [00:00<?, ?it/s]\n",
      "                 Class     Images  Instances      Box(P          R      mAP50  mAP50-95): 100%|██████████| 125/125 [00:51<00:00,  2.41it/s]\n"
     ]
    },
    {
     "name": "stdout",
     "output_type": "stream",
     "text": [
      "                   all       1497        792      0.884      0.817      0.885       0.48\n",
      "Speed: 0.5ms preprocess, 31.4ms inference, 0.0ms loss, 0.7ms postprocess per image\n",
      "Saving result/result_30/predictions.json...\n",
      "Results saved to \u001b[1mresult/result_30\u001b[0m\n",
      "Ultralytics 8.3.107 🚀 Python-3.12.3 torch-2.6.0+cu124 CUDA:0 (NVIDIA GeForce RTX 4060 Ti, 16380MiB)\n",
      "YOLO11l summary (fused): 190 layers, 25,280,083 parameters, 0 gradients, 86.6 GFLOPs\n"
     ]
    },
    {
     "name": "stderr",
     "output_type": "stream",
     "text": [
      "\u001b[34m\u001b[1mval: \u001b[0mScanning /mnt/c/Users/tkdgk/BYU---Locating-Bacterial-Flagellar-Motors/parse_data_add_val_data/yolo_dataset/labels/val.cache... 1497 images, 705 backgrounds, 0 corrupt: 100%|██████████| 1497/1497 [00:00<?, ?it/s]\n",
      "                 Class     Images  Instances      Box(P          R      mAP50  mAP50-95): 100%|██████████| 125/125 [00:51<00:00,  2.42it/s]\n"
     ]
    },
    {
     "name": "stdout",
     "output_type": "stream",
     "text": [
      "                   all       1497        792      0.862      0.852      0.895      0.499\n",
      "Speed: 0.5ms preprocess, 31.2ms inference, 0.0ms loss, 0.7ms postprocess per image\n",
      "Saving result/result_31/predictions.json...\n",
      "Results saved to \u001b[1mresult/result_31\u001b[0m\n",
      "Ultralytics 8.3.107 🚀 Python-3.12.3 torch-2.6.0+cu124 CUDA:0 (NVIDIA GeForce RTX 4060 Ti, 16380MiB)\n",
      "YOLO11l summary (fused): 190 layers, 25,280,083 parameters, 0 gradients, 86.6 GFLOPs\n"
     ]
    },
    {
     "name": "stderr",
     "output_type": "stream",
     "text": [
      "\u001b[34m\u001b[1mval: \u001b[0mScanning /mnt/c/Users/tkdgk/BYU---Locating-Bacterial-Flagellar-Motors/parse_data_add_val_data/yolo_dataset/labels/val.cache... 1497 images, 705 backgrounds, 0 corrupt: 100%|██████████| 1497/1497 [00:00<?, ?it/s]\n",
      "                 Class     Images  Instances      Box(P          R      mAP50  mAP50-95): 100%|██████████| 125/125 [00:51<00:00,  2.43it/s]\n"
     ]
    },
    {
     "name": "stdout",
     "output_type": "stream",
     "text": [
      "                   all       1497        792      0.853      0.867        0.9      0.479\n",
      "Speed: 0.5ms preprocess, 31.2ms inference, 0.0ms loss, 0.6ms postprocess per image\n",
      "Saving result/result_32/predictions.json...\n",
      "Results saved to \u001b[1mresult/result_32\u001b[0m\n",
      "Ultralytics 8.3.107 🚀 Python-3.12.3 torch-2.6.0+cu124 CUDA:0 (NVIDIA GeForce RTX 4060 Ti, 16380MiB)\n",
      "YOLO11l summary (fused): 190 layers, 25,280,083 parameters, 0 gradients, 86.6 GFLOPs\n"
     ]
    },
    {
     "name": "stderr",
     "output_type": "stream",
     "text": [
      "\u001b[34m\u001b[1mval: \u001b[0mScanning /mnt/c/Users/tkdgk/BYU---Locating-Bacterial-Flagellar-Motors/parse_data_add_val_data/yolo_dataset/labels/val.cache... 1497 images, 705 backgrounds, 0 corrupt: 100%|██████████| 1497/1497 [00:00<?, ?it/s]\n",
      "                 Class     Images  Instances      Box(P          R      mAP50  mAP50-95): 100%|██████████| 125/125 [00:51<00:00,  2.43it/s]\n"
     ]
    },
    {
     "name": "stdout",
     "output_type": "stream",
     "text": [
      "                   all       1497        792      0.869      0.856      0.897      0.483\n",
      "Speed: 0.5ms preprocess, 31.2ms inference, 0.0ms loss, 0.6ms postprocess per image\n",
      "Saving result/result_33/predictions.json...\n",
      "Results saved to \u001b[1mresult/result_33\u001b[0m\n",
      "Ultralytics 8.3.107 🚀 Python-3.12.3 torch-2.6.0+cu124 CUDA:0 (NVIDIA GeForce RTX 4060 Ti, 16380MiB)\n",
      "YOLO11l summary (fused): 190 layers, 25,280,083 parameters, 0 gradients, 86.6 GFLOPs\n"
     ]
    },
    {
     "name": "stderr",
     "output_type": "stream",
     "text": [
      "\u001b[34m\u001b[1mval: \u001b[0mScanning /mnt/c/Users/tkdgk/BYU---Locating-Bacterial-Flagellar-Motors/parse_data_add_val_data/yolo_dataset/labels/val.cache... 1497 images, 705 backgrounds, 0 corrupt: 100%|██████████| 1497/1497 [00:00<?, ?it/s]\n",
      "                 Class     Images  Instances      Box(P          R      mAP50  mAP50-95): 100%|██████████| 125/125 [00:51<00:00,  2.43it/s]\n"
     ]
    },
    {
     "name": "stdout",
     "output_type": "stream",
     "text": [
      "                   all       1497        792       0.87      0.828      0.887      0.511\n",
      "Speed: 0.5ms preprocess, 31.3ms inference, 0.0ms loss, 0.6ms postprocess per image\n",
      "Saving result/result_34/predictions.json...\n",
      "Results saved to \u001b[1mresult/result_34\u001b[0m\n",
      "Ultralytics 8.3.107 🚀 Python-3.12.3 torch-2.6.0+cu124 CUDA:0 (NVIDIA GeForce RTX 4060 Ti, 16380MiB)\n",
      "YOLO11l summary (fused): 190 layers, 25,280,083 parameters, 0 gradients, 86.6 GFLOPs\n"
     ]
    },
    {
     "name": "stderr",
     "output_type": "stream",
     "text": [
      "\u001b[34m\u001b[1mval: \u001b[0mScanning /mnt/c/Users/tkdgk/BYU---Locating-Bacterial-Flagellar-Motors/parse_data_add_val_data/yolo_dataset/labels/val.cache... 1497 images, 705 backgrounds, 0 corrupt: 100%|██████████| 1497/1497 [00:00<?, ?it/s]\n",
      "                 Class     Images  Instances      Box(P          R      mAP50  mAP50-95): 100%|██████████| 125/125 [00:51<00:00,  2.41it/s]\n"
     ]
    },
    {
     "name": "stdout",
     "output_type": "stream",
     "text": [
      "                   all       1497        792       0.86       0.86       0.89      0.494\n",
      "Speed: 0.5ms preprocess, 31.3ms inference, 0.0ms loss, 0.7ms postprocess per image\n",
      "Saving result/result_35/predictions.json...\n",
      "Results saved to \u001b[1mresult/result_35\u001b[0m\n",
      "Ultralytics 8.3.107 🚀 Python-3.12.3 torch-2.6.0+cu124 CUDA:0 (NVIDIA GeForce RTX 4060 Ti, 16380MiB)\n",
      "YOLO11l summary (fused): 190 layers, 25,280,083 parameters, 0 gradients, 86.6 GFLOPs\n"
     ]
    },
    {
     "name": "stderr",
     "output_type": "stream",
     "text": [
      "\u001b[34m\u001b[1mval: \u001b[0mScanning /mnt/c/Users/tkdgk/BYU---Locating-Bacterial-Flagellar-Motors/parse_data_add_val_data/yolo_dataset/labels/val.cache... 1497 images, 705 backgrounds, 0 corrupt: 100%|██████████| 1497/1497 [00:00<?, ?it/s]\n",
      "                 Class     Images  Instances      Box(P          R      mAP50  mAP50-95): 100%|██████████| 125/125 [00:51<00:00,  2.42it/s]\n"
     ]
    },
    {
     "name": "stdout",
     "output_type": "stream",
     "text": [
      "                   all       1497        792      0.829      0.867      0.894      0.454\n",
      "Speed: 0.5ms preprocess, 31.0ms inference, 0.0ms loss, 0.7ms postprocess per image\n",
      "Saving result/result_36/predictions.json...\n",
      "Results saved to \u001b[1mresult/result_36\u001b[0m\n",
      "Ultralytics 8.3.107 🚀 Python-3.12.3 torch-2.6.0+cu124 CUDA:0 (NVIDIA GeForce RTX 4060 Ti, 16380MiB)\n",
      "YOLO11l summary (fused): 190 layers, 25,280,083 parameters, 0 gradients, 86.6 GFLOPs\n"
     ]
    },
    {
     "name": "stderr",
     "output_type": "stream",
     "text": [
      "\u001b[34m\u001b[1mval: \u001b[0mScanning /mnt/c/Users/tkdgk/BYU---Locating-Bacterial-Flagellar-Motors/parse_data_add_val_data/yolo_dataset/labels/val.cache... 1497 images, 705 backgrounds, 0 corrupt: 100%|██████████| 1497/1497 [00:00<?, ?it/s]\n",
      "                 Class     Images  Instances      Box(P          R      mAP50  mAP50-95): 100%|██████████| 125/125 [00:51<00:00,  2.41it/s]\n"
     ]
    },
    {
     "name": "stdout",
     "output_type": "stream",
     "text": [
      "                   all       1497        792      0.853       0.85      0.884      0.496\n",
      "Speed: 0.5ms preprocess, 31.3ms inference, 0.0ms loss, 0.7ms postprocess per image\n",
      "Saving result/result_37/predictions.json...\n",
      "Results saved to \u001b[1mresult/result_37\u001b[0m\n",
      "Ultralytics 8.3.107 🚀 Python-3.12.3 torch-2.6.0+cu124 CUDA:0 (NVIDIA GeForce RTX 4060 Ti, 16380MiB)\n",
      "YOLO11l summary (fused): 190 layers, 25,280,083 parameters, 0 gradients, 86.6 GFLOPs\n"
     ]
    },
    {
     "name": "stderr",
     "output_type": "stream",
     "text": [
      "\u001b[34m\u001b[1mval: \u001b[0mScanning /mnt/c/Users/tkdgk/BYU---Locating-Bacterial-Flagellar-Motors/parse_data_add_val_data/yolo_dataset/labels/val.cache... 1497 images, 705 backgrounds, 0 corrupt: 100%|██████████| 1497/1497 [00:00<?, ?it/s]\n",
      "                 Class     Images  Instances      Box(P          R      mAP50  mAP50-95): 100%|██████████| 125/125 [00:51<00:00,  2.44it/s]\n"
     ]
    },
    {
     "name": "stdout",
     "output_type": "stream",
     "text": [
      "                   all       1497        792      0.851      0.859      0.889      0.524\n",
      "Speed: 0.4ms preprocess, 31.0ms inference, 0.0ms loss, 0.7ms postprocess per image\n",
      "Saving result/result_38/predictions.json...\n",
      "Results saved to \u001b[1mresult/result_38\u001b[0m\n",
      "Ultralytics 8.3.107 🚀 Python-3.12.3 torch-2.6.0+cu124 CUDA:0 (NVIDIA GeForce RTX 4060 Ti, 16380MiB)\n",
      "YOLO11l summary (fused): 190 layers, 25,280,083 parameters, 0 gradients, 86.6 GFLOPs\n"
     ]
    },
    {
     "name": "stderr",
     "output_type": "stream",
     "text": [
      "\u001b[34m\u001b[1mval: \u001b[0mScanning /mnt/c/Users/tkdgk/BYU---Locating-Bacterial-Flagellar-Motors/parse_data_add_val_data/yolo_dataset/labels/val.cache... 1497 images, 705 backgrounds, 0 corrupt: 100%|██████████| 1497/1497 [00:00<?, ?it/s]\n",
      "                 Class     Images  Instances      Box(P          R      mAP50  mAP50-95): 100%|██████████| 125/125 [00:51<00:00,  2.45it/s]\n"
     ]
    },
    {
     "name": "stdout",
     "output_type": "stream",
     "text": [
      "                   all       1497        792      0.862      0.856      0.897      0.487\n",
      "Speed: 0.5ms preprocess, 30.9ms inference, 0.0ms loss, 0.7ms postprocess per image\n",
      "Saving result/result_39/predictions.json...\n",
      "Results saved to \u001b[1mresult/result_39\u001b[0m\n",
      "Ultralytics 8.3.107 🚀 Python-3.12.3 torch-2.6.0+cu124 CUDA:0 (NVIDIA GeForce RTX 4060 Ti, 16380MiB)\n",
      "YOLO11l summary (fused): 190 layers, 25,280,083 parameters, 0 gradients, 86.6 GFLOPs\n"
     ]
    },
    {
     "name": "stderr",
     "output_type": "stream",
     "text": [
      "\u001b[34m\u001b[1mval: \u001b[0mScanning /mnt/c/Users/tkdgk/BYU---Locating-Bacterial-Flagellar-Motors/parse_data_add_val_data/yolo_dataset/labels/val.cache... 1497 images, 705 backgrounds, 0 corrupt: 100%|██████████| 1497/1497 [00:00<?, ?it/s]\n",
      "                 Class     Images  Instances      Box(P          R      mAP50  mAP50-95): 100%|██████████| 125/125 [00:51<00:00,  2.42it/s]\n"
     ]
    },
    {
     "name": "stdout",
     "output_type": "stream",
     "text": [
      "                   all       1497        792      0.831       0.85      0.887      0.444\n",
      "Speed: 0.5ms preprocess, 31.3ms inference, 0.0ms loss, 0.6ms postprocess per image\n",
      "Saving result/result_40/predictions.json...\n",
      "Results saved to \u001b[1mresult/result_40\u001b[0m\n",
      "Ultralytics 8.3.107 🚀 Python-3.12.3 torch-2.6.0+cu124 CUDA:0 (NVIDIA GeForce RTX 4060 Ti, 16380MiB)\n",
      "YOLO11l summary (fused): 190 layers, 25,280,083 parameters, 0 gradients, 86.6 GFLOPs\n"
     ]
    },
    {
     "name": "stderr",
     "output_type": "stream",
     "text": [
      "\u001b[34m\u001b[1mval: \u001b[0mScanning /mnt/c/Users/tkdgk/BYU---Locating-Bacterial-Flagellar-Motors/parse_data_add_val_data/yolo_dataset/labels/val.cache... 1497 images, 705 backgrounds, 0 corrupt: 100%|██████████| 1497/1497 [00:00<?, ?it/s]\n",
      "                 Class     Images  Instances      Box(P          R      mAP50  mAP50-95): 100%|██████████| 125/125 [00:51<00:00,  2.41it/s]\n"
     ]
    },
    {
     "name": "stdout",
     "output_type": "stream",
     "text": [
      "                   all       1497        792      0.844      0.855      0.875      0.456\n",
      "Speed: 0.5ms preprocess, 31.3ms inference, 0.0ms loss, 0.7ms postprocess per image\n",
      "Saving result/result_41/predictions.json...\n",
      "Results saved to \u001b[1mresult/result_41\u001b[0m\n",
      "Ultralytics 8.3.107 🚀 Python-3.12.3 torch-2.6.0+cu124 CUDA:0 (NVIDIA GeForce RTX 4060 Ti, 16380MiB)\n",
      "YOLO11l summary (fused): 190 layers, 25,280,083 parameters, 0 gradients, 86.6 GFLOPs\n"
     ]
    },
    {
     "name": "stderr",
     "output_type": "stream",
     "text": [
      "\u001b[34m\u001b[1mval: \u001b[0mScanning /mnt/c/Users/tkdgk/BYU---Locating-Bacterial-Flagellar-Motors/parse_data_add_val_data/yolo_dataset/labels/val.cache... 1497 images, 705 backgrounds, 0 corrupt: 100%|██████████| 1497/1497 [00:00<?, ?it/s]\n",
      "                 Class     Images  Instances      Box(P          R      mAP50  mAP50-95): 100%|██████████| 125/125 [00:51<00:00,  2.40it/s]\n"
     ]
    },
    {
     "name": "stdout",
     "output_type": "stream",
     "text": [
      "                   all       1497        792       0.87      0.834      0.888      0.533\n",
      "Speed: 0.5ms preprocess, 31.4ms inference, 0.0ms loss, 0.6ms postprocess per image\n",
      "Saving result/result_42/predictions.json...\n",
      "Results saved to \u001b[1mresult/result_42\u001b[0m\n",
      "Ultralytics 8.3.107 🚀 Python-3.12.3 torch-2.6.0+cu124 CUDA:0 (NVIDIA GeForce RTX 4060 Ti, 16380MiB)\n",
      "YOLO11l summary (fused): 190 layers, 25,280,083 parameters, 0 gradients, 86.6 GFLOPs\n"
     ]
    },
    {
     "name": "stderr",
     "output_type": "stream",
     "text": [
      "\u001b[34m\u001b[1mval: \u001b[0mScanning /mnt/c/Users/tkdgk/BYU---Locating-Bacterial-Flagellar-Motors/parse_data_add_val_data/yolo_dataset/labels/val.cache... 1497 images, 705 backgrounds, 0 corrupt: 100%|██████████| 1497/1497 [00:00<?, ?it/s]\n",
      "                 Class     Images  Instances      Box(P          R      mAP50  mAP50-95): 100%|██████████| 125/125 [00:51<00:00,  2.42it/s]\n"
     ]
    },
    {
     "name": "stdout",
     "output_type": "stream",
     "text": [
      "                   all       1497        792      0.854       0.85      0.883      0.523\n",
      "Speed: 0.5ms preprocess, 31.4ms inference, 0.0ms loss, 0.6ms postprocess per image\n",
      "Saving result/result_43/predictions.json...\n",
      "Results saved to \u001b[1mresult/result_43\u001b[0m\n",
      "Ultralytics 8.3.107 🚀 Python-3.12.3 torch-2.6.0+cu124 CUDA:0 (NVIDIA GeForce RTX 4060 Ti, 16380MiB)\n",
      "YOLO11l summary (fused): 190 layers, 25,280,083 parameters, 0 gradients, 86.6 GFLOPs\n"
     ]
    },
    {
     "name": "stderr",
     "output_type": "stream",
     "text": [
      "\u001b[34m\u001b[1mval: \u001b[0mScanning /mnt/c/Users/tkdgk/BYU---Locating-Bacterial-Flagellar-Motors/parse_data_add_val_data/yolo_dataset/labels/val.cache... 1497 images, 705 backgrounds, 0 corrupt: 100%|██████████| 1497/1497 [00:00<?, ?it/s]\n",
      "                 Class     Images  Instances      Box(P          R      mAP50  mAP50-95): 100%|██████████| 125/125 [00:51<00:00,  2.43it/s]\n"
     ]
    },
    {
     "name": "stdout",
     "output_type": "stream",
     "text": [
      "                   all       1497        792      0.859      0.851      0.886      0.489\n",
      "Speed: 0.5ms preprocess, 31.3ms inference, 0.0ms loss, 0.6ms postprocess per image\n",
      "Saving result/result_44/predictions.json...\n",
      "Results saved to \u001b[1mresult/result_44\u001b[0m\n",
      "Ultralytics 8.3.107 🚀 Python-3.12.3 torch-2.6.0+cu124 CUDA:0 (NVIDIA GeForce RTX 4060 Ti, 16380MiB)\n",
      "YOLO11l summary (fused): 190 layers, 25,280,083 parameters, 0 gradients, 86.6 GFLOPs\n"
     ]
    },
    {
     "name": "stderr",
     "output_type": "stream",
     "text": [
      "\u001b[34m\u001b[1mval: \u001b[0mScanning /mnt/c/Users/tkdgk/BYU---Locating-Bacterial-Flagellar-Motors/parse_data_add_val_data/yolo_dataset/labels/val.cache... 1497 images, 705 backgrounds, 0 corrupt: 100%|██████████| 1497/1497 [00:00<?, ?it/s]\n",
      "                 Class     Images  Instances      Box(P          R      mAP50  mAP50-95): 100%|██████████| 125/125 [00:51<00:00,  2.43it/s]\n"
     ]
    },
    {
     "name": "stdout",
     "output_type": "stream",
     "text": [
      "                   all       1497        792      0.851      0.848      0.882      0.466\n",
      "Speed: 0.5ms preprocess, 31.1ms inference, 0.0ms loss, 0.6ms postprocess per image\n",
      "Saving result/result_45/predictions.json...\n",
      "Results saved to \u001b[1mresult/result_45\u001b[0m\n",
      "Ultralytics 8.3.107 🚀 Python-3.12.3 torch-2.6.0+cu124 CUDA:0 (NVIDIA GeForce RTX 4060 Ti, 16380MiB)\n",
      "YOLO11l summary (fused): 190 layers, 25,280,083 parameters, 0 gradients, 86.6 GFLOPs\n"
     ]
    },
    {
     "name": "stderr",
     "output_type": "stream",
     "text": [
      "\u001b[34m\u001b[1mval: \u001b[0mScanning /mnt/c/Users/tkdgk/BYU---Locating-Bacterial-Flagellar-Motors/parse_data_add_val_data/yolo_dataset/labels/val.cache... 1497 images, 705 backgrounds, 0 corrupt: 100%|██████████| 1497/1497 [00:00<?, ?it/s]\n",
      "                 Class     Images  Instances      Box(P          R      mAP50  mAP50-95): 100%|██████████| 125/125 [00:51<00:00,  2.44it/s]\n"
     ]
    },
    {
     "name": "stdout",
     "output_type": "stream",
     "text": [
      "                   all       1497        792      0.861      0.838      0.895      0.508\n",
      "Speed: 0.5ms preprocess, 30.8ms inference, 0.0ms loss, 0.7ms postprocess per image\n",
      "Saving result/result_46/predictions.json...\n",
      "Results saved to \u001b[1mresult/result_46\u001b[0m\n",
      "Ultralytics 8.3.107 🚀 Python-3.12.3 torch-2.6.0+cu124 CUDA:0 (NVIDIA GeForce RTX 4060 Ti, 16380MiB)\n",
      "YOLO11l summary (fused): 190 layers, 25,280,083 parameters, 0 gradients, 86.6 GFLOPs\n"
     ]
    },
    {
     "name": "stderr",
     "output_type": "stream",
     "text": [
      "\u001b[34m\u001b[1mval: \u001b[0mScanning /mnt/c/Users/tkdgk/BYU---Locating-Bacterial-Flagellar-Motors/parse_data_add_val_data/yolo_dataset/labels/val.cache... 1497 images, 705 backgrounds, 0 corrupt: 100%|██████████| 1497/1497 [00:00<?, ?it/s]\n",
      "                 Class     Images  Instances      Box(P          R      mAP50  mAP50-95): 100%|██████████| 125/125 [00:51<00:00,  2.45it/s]\n"
     ]
    },
    {
     "name": "stdout",
     "output_type": "stream",
     "text": [
      "                   all       1497        792      0.841      0.861      0.888      0.505\n",
      "Speed: 0.4ms preprocess, 31.0ms inference, 0.0ms loss, 0.6ms postprocess per image\n",
      "Saving result/result_47/predictions.json...\n",
      "Results saved to \u001b[1mresult/result_47\u001b[0m\n",
      "Ultralytics 8.3.107 🚀 Python-3.12.3 torch-2.6.0+cu124 CUDA:0 (NVIDIA GeForce RTX 4060 Ti, 16380MiB)\n",
      "YOLO11l summary (fused): 190 layers, 25,280,083 parameters, 0 gradients, 86.6 GFLOPs\n"
     ]
    },
    {
     "name": "stderr",
     "output_type": "stream",
     "text": [
      "\u001b[34m\u001b[1mval: \u001b[0mScanning /mnt/c/Users/tkdgk/BYU---Locating-Bacterial-Flagellar-Motors/parse_data_add_val_data/yolo_dataset/labels/val.cache... 1497 images, 705 backgrounds, 0 corrupt: 100%|██████████| 1497/1497 [00:00<?, ?it/s]\n",
      "                 Class     Images  Instances      Box(P          R      mAP50  mAP50-95): 100%|██████████| 125/125 [00:51<00:00,  2.43it/s]\n"
     ]
    },
    {
     "name": "stdout",
     "output_type": "stream",
     "text": [
      "                   all       1497        792      0.868      0.857      0.891      0.507\n",
      "Speed: 0.5ms preprocess, 31.3ms inference, 0.0ms loss, 0.7ms postprocess per image\n",
      "Saving result/result_48/predictions.json...\n",
      "Results saved to \u001b[1mresult/result_48\u001b[0m\n",
      "Ultralytics 8.3.107 🚀 Python-3.12.3 torch-2.6.0+cu124 CUDA:0 (NVIDIA GeForce RTX 4060 Ti, 16380MiB)\n",
      "YOLO11l summary (fused): 190 layers, 25,280,083 parameters, 0 gradients, 86.6 GFLOPs\n"
     ]
    },
    {
     "name": "stderr",
     "output_type": "stream",
     "text": [
      "\u001b[34m\u001b[1mval: \u001b[0mScanning /mnt/c/Users/tkdgk/BYU---Locating-Bacterial-Flagellar-Motors/parse_data_add_val_data/yolo_dataset/labels/val.cache... 1497 images, 705 backgrounds, 0 corrupt: 100%|██████████| 1497/1497 [00:00<?, ?it/s]\n",
      "                 Class     Images  Instances      Box(P          R      mAP50  mAP50-95): 100%|██████████| 125/125 [00:51<00:00,  2.44it/s]\n"
     ]
    },
    {
     "name": "stdout",
     "output_type": "stream",
     "text": [
      "                   all       1497        792      0.845      0.874      0.895      0.487\n",
      "Speed: 0.5ms preprocess, 31.0ms inference, 0.0ms loss, 0.7ms postprocess per image\n",
      "Saving result/result_49/predictions.json...\n",
      "Results saved to \u001b[1mresult/result_49\u001b[0m\n",
      "Ultralytics 8.3.107 🚀 Python-3.12.3 torch-2.6.0+cu124 CUDA:0 (NVIDIA GeForce RTX 4060 Ti, 16380MiB)\n",
      "YOLO11l summary (fused): 190 layers, 25,280,083 parameters, 0 gradients, 86.6 GFLOPs\n"
     ]
    },
    {
     "name": "stderr",
     "output_type": "stream",
     "text": [
      "\u001b[34m\u001b[1mval: \u001b[0mScanning /mnt/c/Users/tkdgk/BYU---Locating-Bacterial-Flagellar-Motors/parse_data_add_val_data/yolo_dataset/labels/val.cache... 1497 images, 705 backgrounds, 0 corrupt: 100%|██████████| 1497/1497 [00:00<?, ?it/s]\n",
      "                 Class     Images  Instances      Box(P          R      mAP50  mAP50-95): 100%|██████████| 125/125 [00:51<00:00,  2.44it/s]\n"
     ]
    },
    {
     "name": "stdout",
     "output_type": "stream",
     "text": [
      "                   all       1497        792      0.852      0.862      0.889      0.505\n",
      "Speed: 0.4ms preprocess, 31.1ms inference, 0.0ms loss, 0.6ms postprocess per image\n",
      "Saving result/result_50/predictions.json...\n",
      "Results saved to \u001b[1mresult/result_50\u001b[0m\n",
      "Ultralytics 8.3.107 🚀 Python-3.12.3 torch-2.6.0+cu124 CUDA:0 (NVIDIA GeForce RTX 4060 Ti, 16380MiB)\n",
      "YOLO11l summary (fused): 190 layers, 25,280,083 parameters, 0 gradients, 86.6 GFLOPs\n"
     ]
    },
    {
     "name": "stderr",
     "output_type": "stream",
     "text": [
      "\u001b[34m\u001b[1mval: \u001b[0mScanning /mnt/c/Users/tkdgk/BYU---Locating-Bacterial-Flagellar-Motors/parse_data_add_val_data/yolo_dataset/labels/val.cache... 1497 images, 705 backgrounds, 0 corrupt: 100%|██████████| 1497/1497 [00:00<?, ?it/s]\n",
      "                 Class     Images  Instances      Box(P          R      mAP50  mAP50-95): 100%|██████████| 125/125 [00:51<00:00,  2.44it/s]\n"
     ]
    },
    {
     "name": "stdout",
     "output_type": "stream",
     "text": [
      "                   all       1497        792      0.853      0.856      0.888      0.495\n",
      "Speed: 0.5ms preprocess, 31.0ms inference, 0.0ms loss, 0.6ms postprocess per image\n",
      "Saving result/result_51/predictions.json...\n",
      "Results saved to \u001b[1mresult/result_51\u001b[0m\n",
      "Ultralytics 8.3.107 🚀 Python-3.12.3 torch-2.6.0+cu124 CUDA:0 (NVIDIA GeForce RTX 4060 Ti, 16380MiB)\n",
      "YOLO11l summary (fused): 190 layers, 25,280,083 parameters, 0 gradients, 86.6 GFLOPs\n"
     ]
    },
    {
     "name": "stderr",
     "output_type": "stream",
     "text": [
      "\u001b[34m\u001b[1mval: \u001b[0mScanning /mnt/c/Users/tkdgk/BYU---Locating-Bacterial-Flagellar-Motors/parse_data_add_val_data/yolo_dataset/labels/val.cache... 1497 images, 705 backgrounds, 0 corrupt: 100%|██████████| 1497/1497 [00:00<?, ?it/s]\n",
      "                 Class     Images  Instances      Box(P          R      mAP50  mAP50-95): 100%|██████████| 125/125 [00:51<00:00,  2.45it/s]\n"
     ]
    },
    {
     "name": "stdout",
     "output_type": "stream",
     "text": [
      "                   all       1497        792      0.847      0.856      0.888      0.506\n",
      "Speed: 0.4ms preprocess, 31.0ms inference, 0.0ms loss, 0.6ms postprocess per image\n",
      "Saving result/result_52/predictions.json...\n",
      "Results saved to \u001b[1mresult/result_52\u001b[0m\n",
      "Ultralytics 8.3.107 🚀 Python-3.12.3 torch-2.6.0+cu124 CUDA:0 (NVIDIA GeForce RTX 4060 Ti, 16380MiB)\n",
      "YOLO11l summary (fused): 190 layers, 25,280,083 parameters, 0 gradients, 86.6 GFLOPs\n"
     ]
    },
    {
     "name": "stderr",
     "output_type": "stream",
     "text": [
      "\u001b[34m\u001b[1mval: \u001b[0mScanning /mnt/c/Users/tkdgk/BYU---Locating-Bacterial-Flagellar-Motors/parse_data_add_val_data/yolo_dataset/labels/val.cache... 1497 images, 705 backgrounds, 0 corrupt: 100%|██████████| 1497/1497 [00:00<?, ?it/s]\n",
      "                 Class     Images  Instances      Box(P          R      mAP50  mAP50-95): 100%|██████████| 125/125 [00:51<00:00,  2.43it/s]\n"
     ]
    },
    {
     "name": "stdout",
     "output_type": "stream",
     "text": [
      "                   all       1497        792      0.861       0.86      0.883      0.507\n",
      "Speed: 0.4ms preprocess, 31.4ms inference, 0.0ms loss, 0.7ms postprocess per image\n",
      "Saving result/result_53/predictions.json...\n",
      "Results saved to \u001b[1mresult/result_53\u001b[0m\n",
      "Ultralytics 8.3.107 🚀 Python-3.12.3 torch-2.6.0+cu124 CUDA:0 (NVIDIA GeForce RTX 4060 Ti, 16380MiB)\n",
      "YOLO11l summary (fused): 190 layers, 25,280,083 parameters, 0 gradients, 86.6 GFLOPs\n"
     ]
    },
    {
     "name": "stderr",
     "output_type": "stream",
     "text": [
      "\u001b[34m\u001b[1mval: \u001b[0mScanning /mnt/c/Users/tkdgk/BYU---Locating-Bacterial-Flagellar-Motors/parse_data_add_val_data/yolo_dataset/labels/val.cache... 1497 images, 705 backgrounds, 0 corrupt: 100%|██████████| 1497/1497 [00:00<?, ?it/s]\n",
      "                 Class     Images  Instances      Box(P          R      mAP50  mAP50-95): 100%|██████████| 125/125 [00:52<00:00,  2.38it/s]\n"
     ]
    },
    {
     "name": "stdout",
     "output_type": "stream",
     "text": [
      "                   all       1497        792      0.833      0.867      0.889      0.472\n",
      "Speed: 0.5ms preprocess, 31.8ms inference, 0.0ms loss, 0.7ms postprocess per image\n",
      "Saving result/result_54/predictions.json...\n",
      "Results saved to \u001b[1mresult/result_54\u001b[0m\n",
      "Ultralytics 8.3.107 🚀 Python-3.12.3 torch-2.6.0+cu124 CUDA:0 (NVIDIA GeForce RTX 4060 Ti, 16380MiB)\n",
      "YOLO11l summary (fused): 190 layers, 25,280,083 parameters, 0 gradients, 86.6 GFLOPs\n"
     ]
    },
    {
     "name": "stderr",
     "output_type": "stream",
     "text": [
      "\u001b[34m\u001b[1mval: \u001b[0mScanning /mnt/c/Users/tkdgk/BYU---Locating-Bacterial-Flagellar-Motors/parse_data_add_val_data/yolo_dataset/labels/val.cache... 1497 images, 705 backgrounds, 0 corrupt: 100%|██████████| 1497/1497 [00:00<?, ?it/s]\n",
      "                 Class     Images  Instances      Box(P          R      mAP50  mAP50-95): 100%|██████████| 125/125 [00:52<00:00,  2.40it/s]\n"
     ]
    },
    {
     "name": "stdout",
     "output_type": "stream",
     "text": [
      "                   all       1497        792      0.846      0.862      0.889      0.512\n",
      "Speed: 0.5ms preprocess, 31.3ms inference, 0.0ms loss, 0.7ms postprocess per image\n",
      "Saving result/result_55/predictions.json...\n",
      "Results saved to \u001b[1mresult/result_55\u001b[0m\n",
      "Ultralytics 8.3.107 🚀 Python-3.12.3 torch-2.6.0+cu124 CUDA:0 (NVIDIA GeForce RTX 4060 Ti, 16380MiB)\n",
      "YOLO11l summary (fused): 190 layers, 25,280,083 parameters, 0 gradients, 86.6 GFLOPs\n"
     ]
    },
    {
     "name": "stderr",
     "output_type": "stream",
     "text": [
      "\u001b[34m\u001b[1mval: \u001b[0mScanning /mnt/c/Users/tkdgk/BYU---Locating-Bacterial-Flagellar-Motors/parse_data_add_val_data/yolo_dataset/labels/val.cache... 1497 images, 705 backgrounds, 0 corrupt: 100%|██████████| 1497/1497 [00:00<?, ?it/s]\n",
      "                 Class     Images  Instances      Box(P          R      mAP50  mAP50-95): 100%|██████████| 125/125 [00:51<00:00,  2.41it/s]\n"
     ]
    },
    {
     "name": "stdout",
     "output_type": "stream",
     "text": [
      "                   all       1497        792      0.863      0.848      0.894      0.465\n",
      "Speed: 0.5ms preprocess, 31.4ms inference, 0.0ms loss, 0.7ms postprocess per image\n",
      "Saving result/result_56/predictions.json...\n",
      "Results saved to \u001b[1mresult/result_56\u001b[0m\n",
      "Ultralytics 8.3.107 🚀 Python-3.12.3 torch-2.6.0+cu124 CUDA:0 (NVIDIA GeForce RTX 4060 Ti, 16380MiB)\n",
      "YOLO11l summary (fused): 190 layers, 25,280,083 parameters, 0 gradients, 86.6 GFLOPs\n"
     ]
    },
    {
     "name": "stderr",
     "output_type": "stream",
     "text": [
      "\u001b[34m\u001b[1mval: \u001b[0mScanning /mnt/c/Users/tkdgk/BYU---Locating-Bacterial-Flagellar-Motors/parse_data_add_val_data/yolo_dataset/labels/val.cache... 1497 images, 705 backgrounds, 0 corrupt: 100%|██████████| 1497/1497 [00:00<?, ?it/s]\n",
      "                 Class     Images  Instances      Box(P          R      mAP50  mAP50-95): 100%|██████████| 125/125 [00:52<00:00,  2.40it/s]\n"
     ]
    },
    {
     "name": "stdout",
     "output_type": "stream",
     "text": [
      "                   all       1497        792      0.836      0.864      0.872      0.484\n",
      "Speed: 0.5ms preprocess, 31.5ms inference, 0.0ms loss, 0.7ms postprocess per image\n",
      "Saving result/result_57/predictions.json...\n",
      "Results saved to \u001b[1mresult/result_57\u001b[0m\n",
      "Ultralytics 8.3.107 🚀 Python-3.12.3 torch-2.6.0+cu124 CUDA:0 (NVIDIA GeForce RTX 4060 Ti, 16380MiB)\n",
      "YOLO11l summary (fused): 190 layers, 25,280,083 parameters, 0 gradients, 86.6 GFLOPs\n"
     ]
    },
    {
     "name": "stderr",
     "output_type": "stream",
     "text": [
      "\u001b[34m\u001b[1mval: \u001b[0mScanning /mnt/c/Users/tkdgk/BYU---Locating-Bacterial-Flagellar-Motors/parse_data_add_val_data/yolo_dataset/labels/val.cache... 1497 images, 705 backgrounds, 0 corrupt: 100%|██████████| 1497/1497 [00:00<?, ?it/s]\n",
      "                 Class     Images  Instances      Box(P          R      mAP50  mAP50-95): 100%|██████████| 125/125 [00:51<00:00,  2.42it/s]\n"
     ]
    },
    {
     "name": "stdout",
     "output_type": "stream",
     "text": [
      "                   all       1497        792      0.858      0.862      0.879      0.476\n",
      "Speed: 0.4ms preprocess, 31.4ms inference, 0.0ms loss, 0.6ms postprocess per image\n",
      "Saving result/result_58/predictions.json...\n",
      "Results saved to \u001b[1mresult/result_58\u001b[0m\n",
      "Ultralytics 8.3.107 🚀 Python-3.12.3 torch-2.6.0+cu124 CUDA:0 (NVIDIA GeForce RTX 4060 Ti, 16380MiB)\n",
      "YOLO11l summary (fused): 190 layers, 25,280,083 parameters, 0 gradients, 86.6 GFLOPs\n"
     ]
    },
    {
     "name": "stderr",
     "output_type": "stream",
     "text": [
      "\u001b[34m\u001b[1mval: \u001b[0mScanning /mnt/c/Users/tkdgk/BYU---Locating-Bacterial-Flagellar-Motors/parse_data_add_val_data/yolo_dataset/labels/val.cache... 1497 images, 705 backgrounds, 0 corrupt: 100%|██████████| 1497/1497 [00:00<?, ?it/s]\n",
      "                 Class     Images  Instances      Box(P          R      mAP50  mAP50-95): 100%|██████████| 125/125 [00:51<00:00,  2.43it/s]\n"
     ]
    },
    {
     "name": "stdout",
     "output_type": "stream",
     "text": [
      "                   all       1497        792      0.844      0.864      0.885      0.502\n",
      "Speed: 0.5ms preprocess, 31.2ms inference, 0.0ms loss, 0.7ms postprocess per image\n",
      "Saving result/result_59/predictions.json...\n",
      "Results saved to \u001b[1mresult/result_59\u001b[0m\n",
      "Ultralytics 8.3.107 🚀 Python-3.12.3 torch-2.6.0+cu124 CUDA:0 (NVIDIA GeForce RTX 4060 Ti, 16380MiB)\n",
      "YOLO11l summary (fused): 190 layers, 25,280,083 parameters, 0 gradients, 86.6 GFLOPs\n"
     ]
    },
    {
     "name": "stderr",
     "output_type": "stream",
     "text": [
      "\u001b[34m\u001b[1mval: \u001b[0mScanning /mnt/c/Users/tkdgk/BYU---Locating-Bacterial-Flagellar-Motors/parse_data_add_val_data/yolo_dataset/labels/val.cache... 1497 images, 705 backgrounds, 0 corrupt: 100%|██████████| 1497/1497 [00:00<?, ?it/s]\n",
      "                 Class     Images  Instances      Box(P          R      mAP50  mAP50-95): 100%|██████████| 125/125 [00:51<00:00,  2.42it/s]\n"
     ]
    },
    {
     "name": "stdout",
     "output_type": "stream",
     "text": [
      "                   all       1497        792      0.855       0.87      0.887      0.494\n",
      "Speed: 0.5ms preprocess, 31.3ms inference, 0.0ms loss, 0.6ms postprocess per image\n",
      "Saving result/result_60/predictions.json...\n",
      "Results saved to \u001b[1mresult/result_60\u001b[0m\n",
      "Ultralytics 8.3.107 🚀 Python-3.12.3 torch-2.6.0+cu124 CUDA:0 (NVIDIA GeForce RTX 4060 Ti, 16380MiB)\n",
      "YOLO11l summary (fused): 190 layers, 25,280,083 parameters, 0 gradients, 86.6 GFLOPs\n"
     ]
    },
    {
     "name": "stderr",
     "output_type": "stream",
     "text": [
      "\u001b[34m\u001b[1mval: \u001b[0mScanning /mnt/c/Users/tkdgk/BYU---Locating-Bacterial-Flagellar-Motors/parse_data_add_val_data/yolo_dataset/labels/val.cache... 1497 images, 705 backgrounds, 0 corrupt: 100%|██████████| 1497/1497 [00:00<?, ?it/s]\n",
      "                 Class     Images  Instances      Box(P          R      mAP50  mAP50-95): 100%|██████████| 125/125 [00:51<00:00,  2.41it/s]\n"
     ]
    },
    {
     "name": "stdout",
     "output_type": "stream",
     "text": [
      "                   all       1497        792      0.834      0.875      0.887      0.478\n",
      "Speed: 0.5ms preprocess, 31.3ms inference, 0.0ms loss, 0.7ms postprocess per image\n",
      "Saving result/result_61/predictions.json...\n",
      "Results saved to \u001b[1mresult/result_61\u001b[0m\n",
      "Ultralytics 8.3.107 🚀 Python-3.12.3 torch-2.6.0+cu124 CUDA:0 (NVIDIA GeForce RTX 4060 Ti, 16380MiB)\n",
      "YOLO11l summary (fused): 190 layers, 25,280,083 parameters, 0 gradients, 86.6 GFLOPs\n"
     ]
    },
    {
     "name": "stderr",
     "output_type": "stream",
     "text": [
      "\u001b[34m\u001b[1mval: \u001b[0mScanning /mnt/c/Users/tkdgk/BYU---Locating-Bacterial-Flagellar-Motors/parse_data_add_val_data/yolo_dataset/labels/val.cache... 1497 images, 705 backgrounds, 0 corrupt: 100%|██████████| 1497/1497 [00:00<?, ?it/s]\n",
      "                 Class     Images  Instances      Box(P          R      mAP50  mAP50-95): 100%|██████████| 125/125 [00:51<00:00,  2.42it/s]\n"
     ]
    },
    {
     "name": "stdout",
     "output_type": "stream",
     "text": [
      "                   all       1497        792      0.866      0.855      0.891      0.483\n",
      "Speed: 0.4ms preprocess, 31.3ms inference, 0.0ms loss, 0.7ms postprocess per image\n",
      "Saving result/result_62/predictions.json...\n",
      "Results saved to \u001b[1mresult/result_62\u001b[0m\n",
      "Ultralytics 8.3.107 🚀 Python-3.12.3 torch-2.6.0+cu124 CUDA:0 (NVIDIA GeForce RTX 4060 Ti, 16380MiB)\n",
      "YOLO11l summary (fused): 190 layers, 25,280,083 parameters, 0 gradients, 86.6 GFLOPs\n"
     ]
    },
    {
     "name": "stderr",
     "output_type": "stream",
     "text": [
      "\u001b[34m\u001b[1mval: \u001b[0mScanning /mnt/c/Users/tkdgk/BYU---Locating-Bacterial-Flagellar-Motors/parse_data_add_val_data/yolo_dataset/labels/val.cache... 1497 images, 705 backgrounds, 0 corrupt: 100%|██████████| 1497/1497 [00:00<?, ?it/s]\n",
      "                 Class     Images  Instances      Box(P          R      mAP50  mAP50-95): 100%|██████████| 125/125 [00:51<00:00,  2.41it/s]\n"
     ]
    },
    {
     "name": "stdout",
     "output_type": "stream",
     "text": [
      "                   all       1497        792      0.859      0.857      0.878       0.49\n",
      "Speed: 0.5ms preprocess, 31.5ms inference, 0.0ms loss, 0.6ms postprocess per image\n",
      "Saving result/result_63/predictions.json...\n",
      "Results saved to \u001b[1mresult/result_63\u001b[0m\n",
      "Ultralytics 8.3.107 🚀 Python-3.12.3 torch-2.6.0+cu124 CUDA:0 (NVIDIA GeForce RTX 4060 Ti, 16380MiB)\n",
      "YOLO11l summary (fused): 190 layers, 25,280,083 parameters, 0 gradients, 86.6 GFLOPs\n"
     ]
    },
    {
     "name": "stderr",
     "output_type": "stream",
     "text": [
      "\u001b[34m\u001b[1mval: \u001b[0mScanning /mnt/c/Users/tkdgk/BYU---Locating-Bacterial-Flagellar-Motors/parse_data_add_val_data/yolo_dataset/labels/val.cache... 1497 images, 705 backgrounds, 0 corrupt: 100%|██████████| 1497/1497 [00:00<?, ?it/s]\n",
      "                 Class     Images  Instances      Box(P          R      mAP50  mAP50-95): 100%|██████████| 125/125 [00:51<00:00,  2.43it/s]\n"
     ]
    },
    {
     "name": "stdout",
     "output_type": "stream",
     "text": [
      "                   all       1497        792      0.872      0.856      0.889      0.499\n",
      "Speed: 0.4ms preprocess, 31.3ms inference, 0.0ms loss, 0.6ms postprocess per image\n",
      "Saving result/result_64/predictions.json...\n",
      "Results saved to \u001b[1mresult/result_64\u001b[0m\n",
      "Ultralytics 8.3.107 🚀 Python-3.12.3 torch-2.6.0+cu124 CUDA:0 (NVIDIA GeForce RTX 4060 Ti, 16380MiB)\n",
      "YOLO11l summary (fused): 190 layers, 25,280,083 parameters, 0 gradients, 86.6 GFLOPs\n"
     ]
    },
    {
     "name": "stderr",
     "output_type": "stream",
     "text": [
      "\u001b[34m\u001b[1mval: \u001b[0mScanning /mnt/c/Users/tkdgk/BYU---Locating-Bacterial-Flagellar-Motors/parse_data_add_val_data/yolo_dataset/labels/val.cache... 1497 images, 705 backgrounds, 0 corrupt: 100%|██████████| 1497/1497 [00:00<?, ?it/s]\n",
      "                 Class     Images  Instances      Box(P          R      mAP50  mAP50-95): 100%|██████████| 125/125 [00:51<00:00,  2.41it/s]\n"
     ]
    },
    {
     "name": "stdout",
     "output_type": "stream",
     "text": [
      "                   all       1497        792      0.848      0.873      0.892      0.507\n",
      "Speed: 0.5ms preprocess, 31.3ms inference, 0.0ms loss, 0.7ms postprocess per image\n",
      "Saving result/result_65/predictions.json...\n",
      "Results saved to \u001b[1mresult/result_65\u001b[0m\n",
      "Ultralytics 8.3.107 🚀 Python-3.12.3 torch-2.6.0+cu124 CUDA:0 (NVIDIA GeForce RTX 4060 Ti, 16380MiB)\n",
      "YOLO11l summary (fused): 190 layers, 25,280,083 parameters, 0 gradients, 86.6 GFLOPs\n"
     ]
    },
    {
     "name": "stderr",
     "output_type": "stream",
     "text": [
      "\u001b[34m\u001b[1mval: \u001b[0mScanning /mnt/c/Users/tkdgk/BYU---Locating-Bacterial-Flagellar-Motors/parse_data_add_val_data/yolo_dataset/labels/val.cache... 1497 images, 705 backgrounds, 0 corrupt: 100%|██████████| 1497/1497 [00:00<?, ?it/s]\n",
      "                 Class     Images  Instances      Box(P          R      mAP50  mAP50-95): 100%|██████████| 125/125 [00:51<00:00,  2.42it/s]\n"
     ]
    },
    {
     "name": "stdout",
     "output_type": "stream",
     "text": [
      "                   all       1497        792      0.843      0.869      0.895      0.509\n",
      "Speed: 0.5ms preprocess, 31.2ms inference, 0.0ms loss, 0.7ms postprocess per image\n",
      "Saving result/result_66/predictions.json...\n",
      "Results saved to \u001b[1mresult/result_66\u001b[0m\n",
      "Ultralytics 8.3.107 🚀 Python-3.12.3 torch-2.6.0+cu124 CUDA:0 (NVIDIA GeForce RTX 4060 Ti, 16380MiB)\n",
      "YOLO11l summary (fused): 190 layers, 25,280,083 parameters, 0 gradients, 86.6 GFLOPs\n"
     ]
    },
    {
     "name": "stderr",
     "output_type": "stream",
     "text": [
      "\u001b[34m\u001b[1mval: \u001b[0mScanning /mnt/c/Users/tkdgk/BYU---Locating-Bacterial-Flagellar-Motors/parse_data_add_val_data/yolo_dataset/labels/val.cache... 1497 images, 705 backgrounds, 0 corrupt: 100%|██████████| 1497/1497 [00:00<?, ?it/s]\n",
      "                 Class     Images  Instances      Box(P          R      mAP50  mAP50-95): 100%|██████████| 125/125 [00:51<00:00,  2.43it/s]\n"
     ]
    },
    {
     "name": "stdout",
     "output_type": "stream",
     "text": [
      "                   all       1497        792      0.853      0.857      0.891      0.481\n",
      "Speed: 0.5ms preprocess, 31.2ms inference, 0.0ms loss, 0.6ms postprocess per image\n",
      "Saving result/result_67/predictions.json...\n",
      "Results saved to \u001b[1mresult/result_67\u001b[0m\n",
      "Ultralytics 8.3.107 🚀 Python-3.12.3 torch-2.6.0+cu124 CUDA:0 (NVIDIA GeForce RTX 4060 Ti, 16380MiB)\n",
      "YOLO11l summary (fused): 190 layers, 25,280,083 parameters, 0 gradients, 86.6 GFLOPs\n"
     ]
    },
    {
     "name": "stderr",
     "output_type": "stream",
     "text": [
      "\u001b[34m\u001b[1mval: \u001b[0mScanning /mnt/c/Users/tkdgk/BYU---Locating-Bacterial-Flagellar-Motors/parse_data_add_val_data/yolo_dataset/labels/val.cache... 1497 images, 705 backgrounds, 0 corrupt: 100%|██████████| 1497/1497 [00:00<?, ?it/s]\n",
      "                 Class     Images  Instances      Box(P          R      mAP50  mAP50-95): 100%|██████████| 125/125 [00:51<00:00,  2.42it/s]\n"
     ]
    },
    {
     "name": "stdout",
     "output_type": "stream",
     "text": [
      "                   all       1497        792      0.859      0.856      0.889      0.479\n",
      "Speed: 0.5ms preprocess, 31.3ms inference, 0.0ms loss, 0.7ms postprocess per image\n",
      "Saving result/result_68/predictions.json...\n",
      "Results saved to \u001b[1mresult/result_68\u001b[0m\n",
      "Ultralytics 8.3.107 🚀 Python-3.12.3 torch-2.6.0+cu124 CUDA:0 (NVIDIA GeForce RTX 4060 Ti, 16380MiB)\n",
      "YOLO11l summary (fused): 190 layers, 25,280,083 parameters, 0 gradients, 86.6 GFLOPs\n"
     ]
    },
    {
     "name": "stderr",
     "output_type": "stream",
     "text": [
      "\u001b[34m\u001b[1mval: \u001b[0mScanning /mnt/c/Users/tkdgk/BYU---Locating-Bacterial-Flagellar-Motors/parse_data_add_val_data/yolo_dataset/labels/val.cache... 1497 images, 705 backgrounds, 0 corrupt: 100%|██████████| 1497/1497 [00:00<?, ?it/s]\n",
      "                 Class     Images  Instances      Box(P          R      mAP50  mAP50-95): 100%|██████████| 125/125 [00:51<00:00,  2.42it/s]\n"
     ]
    },
    {
     "name": "stdout",
     "output_type": "stream",
     "text": [
      "                   all       1497        792      0.845       0.86      0.887      0.488\n",
      "Speed: 0.5ms preprocess, 31.3ms inference, 0.0ms loss, 0.7ms postprocess per image\n",
      "Saving result/result_69/predictions.json...\n",
      "Results saved to \u001b[1mresult/result_69\u001b[0m\n"
     ]
    }
   ],
   "source": [
    "weight_path = \"/mnt/c/Users/tkdgk/BYU---Locating-Bacterial-Flagellar-Motors/yolo/outputs/2025-05-07/19-51-56/42/yolo11l_train/weights\"\n",
    "total_epoch = 70\n",
    "yaml_path = \"/mnt/c/Users/tkdgk/BYU---Locating-Bacterial-Flagellar-Motors/parse_data_add_val_data/yolo_dataset/dataset.yaml\"\n",
    "for i in range(total_epoch):\n",
    "    # os.makedirs(f\"result_{i}\", exist_ok=True)\n",
    "    # os.chdir(f\"result_{i}\")\n",
    "    weight = os.path.join(weight_path ,f\"epoch{i}.pt\")\n",
    "    model = YOLO(weight)\n",
    "\n",
    "    results = model.val(\n",
    "    data=yaml_path,\n",
    "    batch=12,\n",
    "    plots=True,        # PRカーブや混同行列のプロットを生成\n",
    "    save=True,         # 入力画像に検出結果を描画して保存する:contentReference[oaicite:0]{index=0}\n",
    "    save_json=True,    # COCOフォーマットのJSONでメトリクス結果を保存する:contentReference[oaicite:1]{index=1}\n",
    "    project=\"result\",# 保存先のルートディレクトリ\n",
    "    name=f\"result_{i}\",     # project 以下に作成されるサブフォルダ名\n",
    "    exist_ok=True      # 既存フォルダがあっても上書きする\n",
    "    )\n",
    "    \n",
    "    \n"
   ]
  },
  {
   "cell_type": "code",
   "execution_count": null,
   "id": "652cf2bf",
   "metadata": {},
   "outputs": [],
   "source": []
  }
 ],
 "metadata": {
  "kernelspec": {
   "display_name": ".venv",
   "language": "python",
   "name": "python3"
  },
  "language_info": {
   "codemirror_mode": {
    "name": "ipython",
    "version": 3
   },
   "file_extension": ".py",
   "mimetype": "text/x-python",
   "name": "python",
   "nbconvert_exporter": "python",
   "pygments_lexer": "ipython3",
   "version": "3.12.3"
  }
 },
 "nbformat": 4,
 "nbformat_minor": 5
}
